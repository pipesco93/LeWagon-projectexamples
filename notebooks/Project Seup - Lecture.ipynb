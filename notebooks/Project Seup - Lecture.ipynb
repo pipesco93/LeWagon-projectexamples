{
 "cells": [
  {
   "cell_type": "markdown",
   "id": "585bbbfc",
   "metadata": {},
   "source": [
    "Call the IPython autoreload extension to avoid restarting the kernel everytime you modify the .py within your package.\n"
   ]
  },
  {
   "cell_type": "code",
   "execution_count": 1,
   "id": "9715646a",
   "metadata": {},
   "outputs": [],
   "source": [
    "%load_ext autoreload\n",
    "%autoreload 2"
   ]
  },
  {
   "cell_type": "code",
   "execution_count": 6,
   "id": "d992ec78",
   "metadata": {},
   "outputs": [],
   "source": [
    "import sys\n",
    "import os\n",
    "\n",
    "# Get the path of your project root folder (where lewagon and notebooks are located)\n",
    "project_path = os.path.abspath(\"..\")  # Adjust if notebooks are nested further\n",
    "sys.path.append(project_path)\n",
    "\n",
    "from lewagon.data_student import DataStudent\n"
   ]
  },
  {
   "cell_type": "code",
   "execution_count": 12,
   "id": "e54e8ebb",
   "metadata": {},
   "outputs": [
    {
     "name": "stdout",
     "output_type": "stream",
     "text": [
      "Alice\n"
     ]
    }
   ],
   "source": [
    "alice = DataStudent(\"Alice\", 25, \"Batch1\")\n",
    "print(alice.name)"
   ]
  },
  {
   "cell_type": "code",
   "execution_count": 13,
   "id": "e4a9c04c",
   "metadata": {},
   "outputs": [
    {
     "data": {
      "text/plain": [
       "25"
      ]
     },
     "execution_count": 13,
     "metadata": {},
     "output_type": "execute_result"
    }
   ],
   "source": [
    "alice.age"
   ]
  },
  {
   "cell_type": "code",
   "execution_count": 14,
   "id": "389e0fa2",
   "metadata": {},
   "outputs": [
    {
     "data": {
      "text/plain": [
       "'Batch1'"
      ]
     },
     "execution_count": 14,
     "metadata": {},
     "output_type": "execute_result"
    }
   ],
   "source": [
    "alice.batch"
   ]
  },
  {
   "cell_type": "code",
   "execution_count": null,
   "id": "3cb9c60e",
   "metadata": {},
   "outputs": [],
   "source": []
  }
 ],
 "metadata": {
  "kernelspec": {
   "display_name": "Python 3 (ipykernel)",
   "language": "python",
   "name": "python3"
  },
  "language_info": {
   "codemirror_mode": {
    "name": "ipython",
    "version": 3
   },
   "file_extension": ".py",
   "mimetype": "text/x-python",
   "name": "python",
   "nbconvert_exporter": "python",
   "pygments_lexer": "ipython3",
   "version": "3.10.6"
  },
  "toc": {
   "base_numbering": 1,
   "nav_menu": {},
   "number_sections": true,
   "sideBar": true,
   "skip_h1_title": false,
   "title_cell": "Table of Contents",
   "title_sidebar": "Contents",
   "toc_cell": false,
   "toc_position": {},
   "toc_section_display": true,
   "toc_window_display": false
  }
 },
 "nbformat": 4,
 "nbformat_minor": 5
}
