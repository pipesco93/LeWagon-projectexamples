{
 "cells": [
  {
   "cell_type": "markdown",
   "id": "73203487",
   "metadata": {},
   "source": [
    "Call the IPython autoreload extension to avoid restarting the kernel everytime you modify the .py within your package.\n"
   ]
  },
  {
   "cell_type": "code",
   "execution_count": 1,
   "id": "43aac1ea",
   "metadata": {},
   "outputs": [],
   "source": [
    "%load_ext autoreload\n",
    "%autoreload 2"
   ]
  },
  {
   "cell_type": "code",
   "execution_count": 6,
   "id": "4699ad77",
   "metadata": {},
   "outputs": [],
   "source": [
    "import sys\n",
    "import os\n",
    "\n",
    "# Get the path of your project root folder (where lewagon and notebooks are located)\n",
    "project_path = os.path.abspath(\"..\")  # Adjust if notebooks are nested further\n",
    "sys.path.append(project_path)\n",
    "\n",
    "from lewagon.data_student import DataStudent\n"
   ]
  },
  {
   "cell_type": "code",
   "execution_count": 12,
   "id": "411331ce",
   "metadata": {},
   "outputs": [
    {
     "name": "stdout",
     "output_type": "stream",
     "text": [
      "Alice\n"
     ]
    }
   ],
   "source": [
    "alice = DataStudent(\"Alice\", 25, \"Batch1\")\n",
    "print(alice.name)"
   ]
  },
  {
   "cell_type": "code",
   "execution_count": 13,
   "id": "8decbc0d",
   "metadata": {},
   "outputs": [
    {
     "data": {
      "text/plain": [
       "25"
      ]
     },
     "execution_count": 13,
     "metadata": {},
     "output_type": "execute_result"
    }
   ],
   "source": [
    "alice.age"
   ]
  },
  {
   "cell_type": "code",
   "execution_count": 14,
   "id": "41e99ae3",
   "metadata": {},
   "outputs": [
    {
     "data": {
      "text/plain": [
       "'Batch1'"
      ]
     },
     "execution_count": 14,
     "metadata": {},
     "output_type": "execute_result"
    }
   ],
   "source": [
    "alice.batch"
   ]
  },
  {
   "cell_type": "code",
   "execution_count": 15,
   "id": "7f3ccc33",
   "metadata": {},
   "outputs": [
    {
     "data": {
      "text/plain": [
       "'/home/pipesco93/code/pipesco93/lewagon-project-class-examples/notebooks'"
      ]
     },
     "execution_count": 15,
     "metadata": {},
     "output_type": "execute_result"
    }
   ],
   "source": [
    "import os; os.getcwd()"
   ]
  },
  {
   "cell_type": "code",
   "execution_count": 16,
   "id": "e7ec136e",
   "metadata": {},
   "outputs": [
    {
     "data": {
      "text/plain": [
       "'/home/pipesco93/code/pipesco93/lewagon-project-class-examples'"
      ]
     },
     "execution_count": 16,
     "metadata": {},
     "output_type": "execute_result"
    }
   ],
   "source": [
    "os.path.abspath(\"..\")\n"
   ]
  },
  {
   "cell_type": "code",
   "execution_count": 17,
   "id": "5a3a8009",
   "metadata": {},
   "outputs": [
    {
     "data": {
      "text/plain": [
       "['/home/pipesco93/code/pipesco93/lewagon-project-class-examples/notebooks',\n",
       " '/home/pipesco93/code/pipesco93/04-Decision-Science/01-Project-Setup/data-context-and-setup',\n",
       " '/home/pipesco93/code/pipesco93/lewagon-project-class-examples/notebooks',\n",
       " '/home/pipesco93/.pyenv/versions/3.10.6/lib/python310.zip',\n",
       " '/home/pipesco93/.pyenv/versions/3.10.6/lib/python3.10',\n",
       " '/home/pipesco93/.pyenv/versions/3.10.6/lib/python3.10/lib-dynload',\n",
       " '',\n",
       " '/home/pipesco93/.pyenv/versions/3.10.6/envs/lewagon/lib/python3.10/site-packages',\n",
       " '/home/pipesco93/code/pipesco93/lewagon-project-class-examples',\n",
       " '/home/pipesco93/code/pipesco93/lewagon-project-class-examples']"
      ]
     },
     "execution_count": 17,
     "metadata": {},
     "output_type": "execute_result"
    }
   ],
   "source": [
    "# you can check your pythonpath specifically\n",
    "import os; os.environ['PYTHONPATH']\n",
    "\n",
    "# double check your root_dir is your path list for package imports\n",
    "import sys; sys.path\n"
   ]
  }
 ],
 "metadata": {
  "kernelspec": {
   "display_name": "Python 3 (ipykernel)",
   "language": "python",
   "name": "python3"
  },
  "language_info": {
   "codemirror_mode": {
    "name": "ipython",
    "version": 3
   },
   "file_extension": ".py",
   "mimetype": "text/x-python",
   "name": "python",
   "nbconvert_exporter": "python",
   "pygments_lexer": "ipython3",
   "version": "3.10.6"
  },
  "toc": {
   "base_numbering": 1,
   "nav_menu": {},
   "number_sections": true,
   "sideBar": true,
   "skip_h1_title": false,
   "title_cell": "Table of Contents",
   "title_sidebar": "Contents",
   "toc_cell": false,
   "toc_position": {},
   "toc_section_display": true,
   "toc_window_display": false
  }
 },
 "nbformat": 4,
 "nbformat_minor": 5
}
