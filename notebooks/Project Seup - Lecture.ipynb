{
 "cells": [
  {
   "cell_type": "markdown",
   "id": "2e07bbe4",
   "metadata": {},
   "source": [
    "Call the IPython autoreload extension to avoid restarting the kernel everytime you modify the .py within your package.\n"
   ]
  },
  {
   "cell_type": "code",
   "execution_count": 1,
   "id": "17154252",
   "metadata": {},
   "outputs": [],
   "source": [
    "%load_ext autoreload\n",
    "%autoreload 2"
   ]
  },
  {
   "cell_type": "code",
   "execution_count": 6,
   "id": "5ebd2dec",
   "metadata": {},
   "outputs": [],
   "source": [
    "import sys\n",
    "import os\n",
    "\n",
    "# Get the path of your project root folder (where lewagon and notebooks are located)\n",
    "project_path = os.path.abspath(\"..\")  # Adjust if notebooks are nested further\n",
    "sys.path.append(project_path)\n",
    "\n",
    "from lewagon.data_student import DataStudent\n"
   ]
  },
  {
   "cell_type": "code",
   "execution_count": 12,
   "id": "281410b2",
   "metadata": {},
   "outputs": [
    {
     "name": "stdout",
     "output_type": "stream",
     "text": [
      "Alice\n"
     ]
    }
   ],
   "source": [
    "alice = DataStudent(\"Alice\", 25, \"Batch1\")\n",
    "print(alice.name)"
   ]
  },
  {
   "cell_type": "code",
   "execution_count": 13,
   "id": "9ed6d25d",
   "metadata": {},
   "outputs": [
    {
     "data": {
      "text/plain": [
       "25"
      ]
     },
     "execution_count": 13,
     "metadata": {},
     "output_type": "execute_result"
    }
   ],
   "source": [
    "alice.age"
   ]
  },
  {
   "cell_type": "code",
   "execution_count": 14,
   "id": "437211bb",
   "metadata": {},
   "outputs": [
    {
     "data": {
      "text/plain": [
       "'Batch1'"
      ]
     },
     "execution_count": 14,
     "metadata": {},
     "output_type": "execute_result"
    }
   ],
   "source": [
    "alice.batch"
   ]
  },
  {
   "cell_type": "code",
   "execution_count": 15,
   "id": "80de4eed",
   "metadata": {},
   "outputs": [
    {
     "data": {
      "text/plain": [
       "'/home/pipesco93/code/pipesco93/lewagon-project-class-examples/notebooks'"
      ]
     },
     "execution_count": 15,
     "metadata": {},
     "output_type": "execute_result"
    }
   ],
   "source": [
    "import os; os.getcwd()"
   ]
  },
  {
   "cell_type": "code",
   "execution_count": 16,
   "id": "06d48702",
   "metadata": {},
   "outputs": [
    {
     "data": {
      "text/plain": [
       "'/home/pipesco93/code/pipesco93/lewagon-project-class-examples'"
      ]
     },
     "execution_count": 16,
     "metadata": {},
     "output_type": "execute_result"
    }
   ],
   "source": [
    "os.path.abspath(\"..\")\n"
   ]
  }
 ],
 "metadata": {
  "kernelspec": {
   "display_name": "Python 3 (ipykernel)",
   "language": "python",
   "name": "python3"
  },
  "language_info": {
   "codemirror_mode": {
    "name": "ipython",
    "version": 3
   },
   "file_extension": ".py",
   "mimetype": "text/x-python",
   "name": "python",
   "nbconvert_exporter": "python",
   "pygments_lexer": "ipython3",
   "version": "3.10.6"
  },
  "toc": {
   "base_numbering": 1,
   "nav_menu": {},
   "number_sections": true,
   "sideBar": true,
   "skip_h1_title": false,
   "title_cell": "Table of Contents",
   "title_sidebar": "Contents",
   "toc_cell": false,
   "toc_position": {},
   "toc_section_display": true,
   "toc_window_display": false
  }
 },
 "nbformat": 4,
 "nbformat_minor": 5
}
